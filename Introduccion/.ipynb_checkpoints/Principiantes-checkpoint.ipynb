{
 "cells": [
  {
   "cell_type": "markdown",
   "metadata": {},
   "source": [
    "# El primer 'Hola mundo' en Python\n",
    "\n",
    "Cuentan las leyendas que para evitar la mala suerte, lo primero que debemos programar en nuestro primer archivo es un Hola Mundo (o Hello World, si son bilingües). Los archivos y códigos de Python se guardan bajo una extensión .py (una extensión es lo que define el tipo de archivo que hemos creado, por ejemplo, **.docx** es un archivo de Word Office, **.pdf** es la extensión de los ya conocidos archivos PDF.\n",
    "\n",
    "Así pues, al crear nuestro primer archivo con extensión .py, para que la fuerza de la programación nos acompañe, escribimos:"
   ]
  },
  {
   "cell_type": "code",
   "execution_count": 1,
   "metadata": {},
   "outputs": [
    {
     "name": "stdout",
     "output_type": "stream",
     "text": [
      "Hola mundo\n"
     ]
    }
   ],
   "source": [
    "print(\"Hola mundo\")"
   ]
  },
  {
   "cell_type": "markdown",
   "metadata": {},
   "source": [
    "Donde **print()** es una *función* que le indica al intérprete de Python que vamos a transmitir un mensaje en la terminal, particularmente el mensaje que enviaremos será \"Hola mundo\", la cual es una cadena de texto (un *string*). \n",
    "Python es un lenguaje **Interpretado**, lo que quiere decir que, a diferencia de otros lenguajes como C o Java, no requiere ser compilado antes de ejecutarse y va interpretando las instrucciones durante tiempo de ejecución. "
   ]
  },
  {
   "cell_type": "markdown",
   "metadata": {},
   "source": [
    "## Variables en Python 👨‍🚀\n",
    "\n",
    "Las variables en Python se componen de 3 partes, el *identificador* o **nombre** de nuestra variable, lo segundo es el valor al cual serán iguales, y para eso nos servimos del símbolo igual (**=**). Finalmente, el tercer elemento es el *valor* o **contenido** que tendrá nuestra variable. Veamos ejemplos:"
   ]
  },
  {
   "cell_type": "code",
   "execution_count": 2,
   "metadata": {},
   "outputs": [
    {
     "name": "stdout",
     "output_type": "stream",
     "text": [
      "Hola desde una varible\n"
     ]
    }
   ],
   "source": [
    "# Creando una variable de nombre \"saludo\"\n",
    "# cuyo valor será igual (=) a la cadena \"Hola desde una variable\"\n",
    "saludo = \"Hola desde una varible\"\n",
    "\n",
    "# Para ver lo que guardamos, haremos uso de la funcion print()\n",
    "print(saludo)    # Dentro de paréntesis colocamos nuestra variable \"saludo\""
   ]
  },
  {
   "cell_type": "markdown",
   "metadata": {},
   "source": [
    "Antes de continuar es importante destacar 2 cosas. La primera es que en python podemos realizar **comentarios** en nuestro codigo utilizando el símbolo gato (#) y escribir el mensaje que deseemos a continuación. El intérprete de Python ignora estas líneas, pero son útiles para nosotros ya que podremos escribir de forma breve que es lo que está sucediendo en nuestro código. \n",
    "\n",
    "La segunda, en nuestra *función* print estamos diciendo que vamos a mostrar en la terminal algo, pero en esta ocasión nosotros queremos mostrar el **contenido de nuestra variable *saludo***, y el valor de esta variable es una cadena (Las llamaré string de ahora en adelante) que forman el mensaje *\"Hola desde una variable\"*. Podemos crear muchas variables y en ellas guardar otras cosas, como numeros enteros y decimales, probemos:"
   ]
  },
  {
   "cell_type": "code",
   "execution_count": 3,
   "metadata": {},
   "outputs": [],
   "source": [
    "variable1 = \"Guardando otro string\"  # Guardamos un string\n",
    "variable2 = 10                       # Guardamos un numero \"10\"\n",
    "variable3 = 326546846854156484       # Guardamos un numerote\n",
    "variable4 = 3.1416                   # Guardamos los primeros valores de pi\n",
    "variable5 = \"30\"                     # ¿Guardamos una cadena o un numero?"
   ]
  },
  {
   "cell_type": "markdown",
   "metadata": {},
   "source": [
    "Nótese que para guardar distintos valores utilizamos un nombre de variable o *identificador* diferente, *variable1, variable2, variable3... etc* son nombres de variables distintos y cada uno guarda un dato concreto. \n",
    "¿Qué pasa si utilizamos el mismo nombre? Ans: Bueno, si se utiliza el mismo nombre para asignar otro dato, la variable será reescrita, contendrá el nuevo valor asignado, pero al costo de olvidar el valor previo. Python puede guardar distintos **tipos de dato** en las variables creadas.\n",
    "**Nota: Esto es posible por el tipado dinámico de Python, en otros lenguajes más estrictos, si tu variable recibe un string y luego quieres darle un valor numérico, probablemente te marque error**.\n",
    "\n",
    "Veamos un ejemplo:"
   ]
  },
  {
   "cell_type": "code",
   "execution_count": 4,
   "metadata": {},
   "outputs": [
    {
     "name": "stdout",
     "output_type": "stream",
     "text": [
      "Hola programador\n",
      "Ahora otro mensaje\n",
      "Ahora otro mensaje\n"
     ]
    }
   ],
   "source": [
    "variable1 = \"Hola programador\"\n",
    "print(variable1)                 # Primer valor de nuestra variable\n",
    "\n",
    "variable1 = \"Ahora otro mensaje\" # Reescribimos el valor de la variable\n",
    "print(variable1)                 # Vemos el valor que tiene ahora\n",
    "\n",
    "varaible1 = 10\n",
    "print(variable1)                 # Cambiamos y consultamos valor por ultima vez"
   ]
  },
  {
   "cell_type": "markdown",
   "metadata": {},
   "source": [
    "### La forma correcta de declarar tus variables ✅\n",
    "Es importante que desde un comienzo conozcas las *buenas formas* de escribir código. Las buenas formas nos permiten escribir código que sea entendible para nosotros, para el vecino y casi para el perro 🐕‍🦺. No pasa nada si no las sigues todas, pero lo ideal es que lo hagas, pues obtendrás un código más estético, efectivo, entendible y fácil de mantener, lo cual es una proeza **Vital** en el mundo de la programación. \n",
    "Así pues, el [Python Enhancement Proposals](https://www.python.org/dev/peps/pep-0008/) (PEP) es una guía de estilos que pretende darnos las mejores formas para programar en Python. Distintos lenguajes adoptan diferentes estilos, pero pueden coincidir en otros. Lo ideal es que no las mezcles y utilices la gúia de estilo específica según el lenguaje donde estes trabajando.\n",
    "Dicho esto, procedamos con la mejor forma de declarar variables. \n",
    "\n",
    "**En cuanto al nombre:**\n",
    "Utiliza nombres que permitan identificar de la mejor forma el funcionamiento de tu variable, por ejemplo, si vas a guardar *strings* de saludos, lo ideal es que tu variable se llame *saludo* o *mensaje_saludo*. Como puedes ver en el anterior utilizamos un guión bajo (*underscore*), esto nos permite asignar nombres más largos a variables, pero esto debe usarse solo cuando sea necesario ser más explícito con el nombre de tu variable. \n",
    "Otra parte que debes notar es el hecho de que para nombrar variables no usamos letras en mayúscula, todas fueron en minúsculas.\n",
    "\n",
    "Así pues, ¿cuáles de las siguientes variables están bien declaradas?\n",
    "\n",
    "saludo = \"Hola amigo\"\n",
    "\n",
    "kasjdsajdak = 10\n",
    "\n",
    "UnaDespPeDiDaH = \"Adios\"\n",
    "\n",
    "resultado_final = \"Usted ha ganado\"\n",
    "\n",
    "\n",
    "Ans: las variables *saludo* y *resultado_final* son las únicas bien nombradas. Las otras son difíciles de leer y de comprender su función dentro de nuestros códigos, así que ya deberías ver la funcionalidad de las buenas prácticas.\n",
    "\n"
   ]
  },
  {
   "cell_type": "markdown",
   "metadata": {},
   "source": [
    "## Operaciones con operadores ➕➖✖➗\n",
    "\n",
    "Python nos permite realizar operaciones matematicas. Dichas operaciones también pueden guardarse en variables. Las operaciones disponibles son.\n",
    "\n",
    "|     Operador        |          Descripción             |\n",
    "|---------------------|----------------------------------|\n",
    "| Suma  (+)           | Realiza una suma entre 2 valores |\n",
    "| Resta (-)           | Realiza una resta entre 2 valores|\n",
    "| Multiplicación (\\*) | Multiplica 2 números             |\n",
    "| Potencia (\\*\\*)     | Potencia un numero al valor dado |\n",
    "| Division (/)        | Divide a / b                     |\n",
    "| Division entera (//)| Divide a / b y redondea resultado|\n",
    "| Módulo (%)          | Da el residuo de a / b           |\n",
    "\n",
    "¡Vamos a probarlos!\n",
    "\n"
   ]
  },
  {
   "cell_type": "code",
   "execution_count": 7,
   "metadata": {},
   "outputs": [
    {
     "name": "stdout",
     "output_type": "stream",
     "text": [
      "Suma:  20\n",
      "Resta:  5\n",
      "Multiplicación:  50\n",
      "Potencia al cuadrado:  25\n",
      "División con decimal: 3.3333333333333335\n",
      "División sin decimal: 3\n",
      "Módulo: 1\n"
     ]
    }
   ],
   "source": [
    "print(\"Suma: \", 10 + 10)\n",
    "print(\"Resta: \", 10 - 5)\n",
    "print(\"Multiplicación: \", 10 * 5)\n",
    "print(\"Potencia al cuadrado: \", 5 ** 2)\n",
    "print(\"División con decimal:\", 10 / 3)\n",
    "print(\"División sin decimal:\", 10 // 3)\n",
    "print(\"Módulo:\", 10 % 3)\n",
    "\n"
   ]
  },
  {
   "cell_type": "markdown",
   "metadata": {},
   "source": [
    "Estas operaciones también se pueden hacer entre variables, siempre y cuando el **tipo de dato lo permita**\n",
    "\n",
    "## Tipos de dato 🍕\n",
    "\n",
    "Ya que vimos que es posible realizar operaciones aritméticas, es hora de ver los tipos de datos. Los tipos de dato son la forma en la cual python almacena y procesa la información que obtiene ya sea de nosotros o del flujo de un programa. Cada tipo de dato puede hacer distintas cosas.\n",
    "\n",
    "Los tipos de datos más usados son\n",
    "\n",
    "| Tipo de dato        |          Descripción                      |\n",
    "|---------------------|-------------------------------------------|\n",
    "| String (str)        | Cadenas de texto: \"Hola mundo\", \"10\"...   |\n",
    "| Entero (int)        | Números enteros: 10, \\23123213, 0...      |\n",
    "| Flotante (float)    | Numeros con decimal: 5.5, 3.1416, 0.00... |\n",
    "| Booleanos (bool)    | Valores True y False                      |\n",
    "\n",
    "Existen más tipos de datos para Python y otros lenguajes, pero de momento con estos estaremos bien. Si queremos saber que tipo de dato almacenan nuestras variables, python nos ofrece una *función* que lo realiza por nosotros. Esto es con `type(variable)`. Veamos ejemplos:\n",
    "\n",
    "\n"
   ]
  },
  {
   "cell_type": "code",
   "execution_count": 8,
   "metadata": {},
   "outputs": [
    {
     "name": "stdout",
     "output_type": "stream",
     "text": [
      "<class 'str'>\n",
      "<class 'int'>\n",
      "<class 'float'>\n",
      "<class 'bool'>\n"
     ]
    }
   ],
   "source": [
    "saludo = \"Hola mundo\"\n",
    "entero = 165456465\n",
    "flotante = 3.1416\n",
    "booleano = True\n",
    "\n",
    "# Veamos el tipo de dato de cada uno\n",
    "print(type(saludo))\n",
    "print(type(entero))\n",
    "print(type(flotante))\n",
    "print(type(booleano))\n"
   ]
  },
  {
   "cell_type": "markdown",
   "metadata": {},
   "source": [
    "## Direcciones de memoria 📝\n",
    "\n",
    "Ya mencionamos que podemos guardar valores en variables, pero esto es solo una forma superficial de decirlo, lo que te llevará a preguntarte ¿Realmente dónde se guardan los valores?\n",
    "\n",
    "A nivel general en los lenguajes de programación, los valores de nuestras variables se guardan en lo que se conoce como **direcciones de memoria**, para lo cual la memoria RAM tiene un funcionamiento fundamental. La memoria RAM ofrece \"bloques\" de memoria a Python, el cual los utiliza para guardar y almacenar TEMPORALMENTE los datos. Decimos temporalmente porque la RAM es una memoria de tipo **volatil** lo que quiere decir que, en caso de ser necesario, ocupa esos bloques para otros procesos, y la información almacenada se pierde cuando volvemos a ejecutar el código o cuando apagamos nuestro ordenador. \n",
    "\n",
    "Para conocer la dirección de memoria de nuestras variables, usamos la función `id(variable)`. Veamos un ejemplo:\n",
    "\n"
   ]
  },
  {
   "cell_type": "code",
   "execution_count": null,
   "metadata": {},
   "outputs": [],
   "source": [
    "# Creando una variable para ver su direccion de memoria\n",
    "x = 10\n",
    "# Consultando la direccion\n",
    "print(id(x))"
   ]
  }
 ],
 "metadata": {
  "kernelspec": {
   "display_name": "Python 3",
   "language": "python",
   "name": "python3"
  },
  "language_info": {
   "codemirror_mode": {
    "name": "ipython",
    "version": 3
   },
   "file_extension": ".py",
   "mimetype": "text/x-python",
   "name": "python",
   "nbconvert_exporter": "python",
   "pygments_lexer": "ipython3",
   "version": "3.9.4"
  }
 },
 "nbformat": 4,
 "nbformat_minor": 4
}
